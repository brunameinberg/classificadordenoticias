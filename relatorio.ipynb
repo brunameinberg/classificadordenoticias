{
 "cells": [
  {
   "cell_type": "markdown",
   "metadata": {},
   "source": [
    "# Projeto 1 - Ciência dos Dados"
   ]
  },
  {
   "cell_type": "markdown",
   "metadata": {},
   "source": [
    "#### Integrantes: Bruna Lima Meinberg, Henrique Krepel Foronda"
   ]
  },
  {
   "cell_type": "markdown",
   "metadata": {},
   "source": [
    "Atenção: Serão permitidos grupos de três pessoas, mas com uma rubrica mais exigente. Grupos deste tamanho precisarão fazer um questionário de avaliação de trabalho em equipe"
   ]
  },
  {
   "cell_type": "markdown",
   "metadata": {},
   "source": [
    "___\n",
    "Carregando algumas bibliotecas:"
   ]
  },
  {
   "cell_type": "code",
   "execution_count": 490,
   "metadata": {},
   "outputs": [
    {
     "name": "stderr",
     "output_type": "stream",
     "text": [
      "[nltk_data] Downloading package stopwords to /Users/bruna/nltk_data...\n",
      "[nltk_data]   Package stopwords is already up-to-date!\n"
     ]
    },
    {
     "data": {
      "text/plain": [
       "True"
      ]
     },
     "execution_count": 490,
     "metadata": {},
     "output_type": "execute_result"
    }
   ],
   "source": [
    "%matplotlib inline\n",
    "import pandas as pd\n",
    "import matplotlib.pyplot as plt\n",
    "import numpy as np\n",
    "from numpy import arange\n",
    "import os\n",
    "import nltk \n",
    "from nltk.stem import RSLPStemmer\n",
    "nltk.download('stopwords')"
   ]
  },
  {
   "cell_type": "markdown",
   "metadata": {},
   "source": [
    "Localização do diretório:"
   ]
  },
  {
   "cell_type": "code",
   "execution_count": 491,
   "metadata": {
    "scrolled": false
   },
   "outputs": [
    {
     "name": "stdout",
     "output_type": "stream",
     "text": [
      "Esperamos trabalhar no diretório\n",
      "/Users/bruna/Desktop/2022.1/CDADOS/Projeto 1/22-1a-cd-p1-g_bruna_henrique\n"
     ]
    }
   ],
   "source": [
    "print('Esperamos trabalhar no diretório')\n",
    "print(os.getcwd())"
   ]
  },
  {
   "cell_type": "markdown",
   "metadata": {},
   "source": [
    "Carregando a base de dados com as notícias classificadas manualmente:"
   ]
  },
  {
   "cell_type": "code",
   "execution_count": 492,
   "metadata": {},
   "outputs": [],
   "source": [
    "filename = 'dados.xlsx'"
   ]
  },
  {
   "cell_type": "code",
   "execution_count": 493,
   "metadata": {},
   "outputs": [
    {
     "data": {
      "text/html": [
       "<div>\n",
       "<style scoped>\n",
       "    .dataframe tbody tr th:only-of-type {\n",
       "        vertical-align: middle;\n",
       "    }\n",
       "\n",
       "    .dataframe tbody tr th {\n",
       "        vertical-align: top;\n",
       "    }\n",
       "\n",
       "    .dataframe thead th {\n",
       "        text-align: right;\n",
       "    }\n",
       "</style>\n",
       "<table border=\"1\" class=\"dataframe\">\n",
       "  <thead>\n",
       "    <tr style=\"text-align: right;\">\n",
       "      <th></th>\n",
       "      <th>Categoria</th>\n",
       "      <th>Titulo</th>\n",
       "      <th>PrimeiroParag</th>\n",
       "      <th>Data</th>\n",
       "      <th>Pagina</th>\n",
       "      <th>Target</th>\n",
       "    </tr>\n",
       "  </thead>\n",
       "  <tbody>\n",
       "    <tr>\n",
       "      <th>0</th>\n",
       "      <td>Comprar ou vender?</td>\n",
       "      <td>SulAmérica (SULA11): Aquisição pela Rede D’Or ...</td>\n",
       "      <td>A Rede D’Or (RDOR3) anunciou ontem, após o fec...</td>\n",
       "      <td>24/02/2022 - 13:03</td>\n",
       "      <td>14</td>\n",
       "      <td>1</td>\n",
       "    </tr>\n",
       "    <tr>\n",
       "      <th>1</th>\n",
       "      <td>Jornais</td>\n",
       "      <td>Confira as principais notícias dos jornais des...</td>\n",
       "      <td>Veja as principais manchetes desta quarta-feir...</td>\n",
       "      <td>23/02/2022 - 7:01</td>\n",
       "      <td>17</td>\n",
       "      <td>0</td>\n",
       "    </tr>\n",
       "    <tr>\n",
       "      <th>2</th>\n",
       "      <td>Tempo Real</td>\n",
       "      <td>Tempo Real: Shell deixa parceria com gigante e...</td>\n",
       "      <td>Boa tarde!</td>\n",
       "      <td>28/02/2022 - 8:50</td>\n",
       "      <td>11</td>\n",
       "      <td>2</td>\n",
       "    </tr>\n",
       "    <tr>\n",
       "      <th>3</th>\n",
       "      <td>Economia</td>\n",
       "      <td>Incerteza sobre inflação nos EUA é maior do qu...</td>\n",
       "      <td>A incerteza sobre inflação e a política monetá...</td>\n",
       "      <td>10/02/2022 - 8:42</td>\n",
       "      <td>34</td>\n",
       "      <td>2</td>\n",
       "    </tr>\n",
       "    <tr>\n",
       "      <th>4</th>\n",
       "      <td>Mercados</td>\n",
       "      <td>Ibovespa (IBOV) tem leve queda com tensões geo...</td>\n",
       "      <td>O principal índice da bolsa brasileira caía na...</td>\n",
       "      <td>18/02/2022 - 16:17</td>\n",
       "      <td>22</td>\n",
       "      <td>2</td>\n",
       "    </tr>\n",
       "  </tbody>\n",
       "</table>\n",
       "</div>"
      ],
      "text/plain": [
       "             Categoria                                             Titulo  \\\n",
       "0  Comprar ou vender?   SulAmérica (SULA11): Aquisição pela Rede D’Or ...   \n",
       "1             Jornais   Confira as principais notícias dos jornais des...   \n",
       "2          Tempo Real   Tempo Real: Shell deixa parceria com gigante e...   \n",
       "3            Economia   Incerteza sobre inflação nos EUA é maior do qu...   \n",
       "4            Mercados   Ibovespa (IBOV) tem leve queda com tensões geo...   \n",
       "\n",
       "                                       PrimeiroParag                Data  \\\n",
       "0  A Rede D’Or (RDOR3) anunciou ontem, após o fec...  24/02/2022 - 13:03   \n",
       "1  Veja as principais manchetes desta quarta-feir...   23/02/2022 - 7:01   \n",
       "2                                         Boa tarde!   28/02/2022 - 8:50   \n",
       "3  A incerteza sobre inflação e a política monetá...   10/02/2022 - 8:42   \n",
       "4  O principal índice da bolsa brasileira caía na...  18/02/2022 - 16:17   \n",
       "\n",
       "   Pagina  Target  \n",
       "0      14       1  \n",
       "1      17       0  \n",
       "2      11       2  \n",
       "3      34       2  \n",
       "4      22       2  "
      ]
     },
     "execution_count": 493,
     "metadata": {},
     "output_type": "execute_result"
    }
   ],
   "source": [
    "train = pd.read_excel(filename, sheet_name = 'Treinamento')\n",
    "train.fillna('', inplace=True)\n",
    "train.head(5)\n"
   ]
  },
  {
   "cell_type": "code",
   "execution_count": 494,
   "metadata": {},
   "outputs": [
    {
     "data": {
      "text/html": [
       "<div>\n",
       "<style scoped>\n",
       "    .dataframe tbody tr th:only-of-type {\n",
       "        vertical-align: middle;\n",
       "    }\n",
       "\n",
       "    .dataframe tbody tr th {\n",
       "        vertical-align: top;\n",
       "    }\n",
       "\n",
       "    .dataframe thead th {\n",
       "        text-align: right;\n",
       "    }\n",
       "</style>\n",
       "<table border=\"1\" class=\"dataframe\">\n",
       "  <thead>\n",
       "    <tr style=\"text-align: right;\">\n",
       "      <th></th>\n",
       "      <th>Categoria</th>\n",
       "      <th>Titulo</th>\n",
       "      <th>PrimeiroParag</th>\n",
       "      <th>Data</th>\n",
       "      <th>Pagina</th>\n",
       "      <th>Target</th>\n",
       "    </tr>\n",
       "  </thead>\n",
       "  <tbody>\n",
       "    <tr>\n",
       "      <th>0</th>\n",
       "      <td>Tempo Real</td>\n",
       "      <td>Tempo Real: Ibovespa fecha em queda de 1,43%; ...</td>\n",
       "      <td>Boa tarde!</td>\n",
       "      <td>17/02/2022 - 8:02</td>\n",
       "      <td>24</td>\n",
       "      <td>2</td>\n",
       "    </tr>\n",
       "    <tr>\n",
       "      <th>1</th>\n",
       "      <td>Mercados</td>\n",
       "      <td>Ibovespa: As ações mais negociadas nesta manhã</td>\n",
       "      <td>O Ibovespa abriu o pregão desta quinta-feira (...</td>\n",
       "      <td>03/02/2022 - 10:24</td>\n",
       "      <td>43</td>\n",
       "      <td>0</td>\n",
       "    </tr>\n",
       "    <tr>\n",
       "      <th>2</th>\n",
       "      <td>Carteira Recomendada</td>\n",
       "      <td>10 ações com rendimento médio de dividendos de...</td>\n",
       "      <td>Após apresentar uma valorização de 8,30% em su...</td>\n",
       "      <td>01/02/2022 - 14:11</td>\n",
       "      <td>46</td>\n",
       "      <td>1</td>\n",
       "    </tr>\n",
       "    <tr>\n",
       "      <th>3</th>\n",
       "      <td>Carteira Recomendada</td>\n",
       "      <td>Commodities, varejo e setor financeiro: As 10 ...</td>\n",
       "      <td>A Toro Investimentos atualizou a carteira de a...</td>\n",
       "      <td>03/02/2022 - 14:02</td>\n",
       "      <td>43</td>\n",
       "      <td>0</td>\n",
       "    </tr>\n",
       "    <tr>\n",
       "      <th>4</th>\n",
       "      <td>Mercados</td>\n",
       "      <td>Ibovespa: JSL (JSLG3) e as ações mais negociad...</td>\n",
       "      <td>O Ibovespa abriu o pregão desta terça-feira (2...</td>\n",
       "      <td>22/02/2022 - 10:27</td>\n",
       "      <td>18</td>\n",
       "      <td>0</td>\n",
       "    </tr>\n",
       "  </tbody>\n",
       "</table>\n",
       "</div>"
      ],
      "text/plain": [
       "               Categoria                                             Titulo  \\\n",
       "0            Tempo Real   Tempo Real: Ibovespa fecha em queda de 1,43%; ...   \n",
       "1              Mercados      Ibovespa: As ações mais negociadas nesta manhã   \n",
       "2  Carteira Recomendada   10 ações com rendimento médio de dividendos de...   \n",
       "3  Carteira Recomendada   Commodities, varejo e setor financeiro: As 10 ...   \n",
       "4              Mercados   Ibovespa: JSL (JSLG3) e as ações mais negociad...   \n",
       "\n",
       "                                       PrimeiroParag                Data  \\\n",
       "0                                         Boa tarde!   17/02/2022 - 8:02   \n",
       "1  O Ibovespa abriu o pregão desta quinta-feira (...  03/02/2022 - 10:24   \n",
       "2  Após apresentar uma valorização de 8,30% em su...  01/02/2022 - 14:11   \n",
       "3  A Toro Investimentos atualizou a carteira de a...  03/02/2022 - 14:02   \n",
       "4  O Ibovespa abriu o pregão desta terça-feira (2...  22/02/2022 - 10:27   \n",
       "\n",
       "   Pagina  Target  \n",
       "0      24       2  \n",
       "1      43       0  \n",
       "2      46       1  \n",
       "3      43       0  \n",
       "4      18       0  "
      ]
     },
     "execution_count": 494,
     "metadata": {},
     "output_type": "execute_result"
    }
   ],
   "source": [
    "test = pd.read_excel(filename, sheet_name = 'Teste')\n",
    "test.head(5)"
   ]
  },
  {
   "cell_type": "markdown",
   "metadata": {},
   "source": [
    "___\n",
    "## Classificador automático\n"
   ]
  },
  {
   "cell_type": "markdown",
   "metadata": {},
   "source": [
    "Faça aqui uma descrição do seu assunto e o que considerou como relevante ou não relevante na classificação das notícias (Target).\n",
    "\n",
    "O grupo optou por classificar em:\n",
    "\n",
    "0-Neutro\n",
    "\n",
    "1-Positivo\n",
    "\n",
    "2-Negativo"
   ]
  },
  {
   "cell_type": "markdown",
   "metadata": {},
   "source": [
    "___\n",
    "### Montando um Classificador Naive-Bayes\n",
    "\n",
    "Considerando apenas as mensagens da planilha Treinamento, ensine  seu classificador."
   ]
  },
  {
   "cell_type": "markdown",
   "metadata": {},
   "source": [
    "## Funções para limpeza das notícias\n"
   ]
  },
  {
   "cell_type": "markdown",
   "metadata": {},
   "source": [
    "Além da função \"cleanup\" para retirar pontuações, também foi utilizado a de \"StopWords\" com o objetivo de retirar palaras recorrentes a todos que não agregam ao classificador"
   ]
  },
  {
   "cell_type": "code",
   "execution_count": 495,
   "metadata": {},
   "outputs": [],
   "source": [
    "import re \n",
    "\"\"\"\n",
    "        Função de limpeza muito simples que troca alguns sinais básicos por espaços\n",
    "\"\"\"\n",
    "\n",
    "def cleanup(text):\n",
    "    \n",
    "    #import string\n",
    "    punctuation = '[!-.:?;%)(\\\",_]' # Note que os sinais [] são delimitadores de um conjunto.\n",
    "    pattern = re.compile(punctuation)\n",
    "    text_subbed = re.sub(pattern, '', text)\n",
    "    return text_subbed.lower()\n",
    "\n",
    "def RemoveStopWords(list_of_words):\n",
    "    stopwords = nltk.corpus.stopwords.words('portuguese')\n",
    "    lista_filtrada = []\n",
    "    for word in list_of_words:\n",
    "        if word not in stopwords:\n",
    "            lista_filtrada.append(word)\n",
    "    return lista_filtrada"
   ]
  },
  {
   "cell_type": "markdown",
   "metadata": {},
   "source": [
    "Limpando a parte do título e do primeiro parágrafo da parte de treinamento do dataframe"
   ]
  },
  {
   "cell_type": "code",
   "execution_count": 496,
   "metadata": {},
   "outputs": [],
   "source": [
    "train.fillna('',inplace = True) \n",
    "test.fillna('',inplace = True)\n",
    "train['Titulo']=train['Titulo'].apply(cleanup)\n",
    "train['PrimeiroParag']=train['PrimeiroParag'].apply(cleanup)\n",
    "test['Titulo']=test['Titulo'].apply(cleanup)\n",
    "test['PrimeiroParag']=test['PrimeiroParag'].apply(cleanup)\n",
    "\n"
   ]
  },
  {
   "cell_type": "markdown",
   "metadata": {},
   "source": [
    "##### Localizando as classificações no treinamento do dataframe e criando as tabelas (relativas, absolutas) que futuramente serão utilizadas no classificador"
   ]
  },
  {
   "cell_type": "code",
   "execution_count": 497,
   "metadata": {},
   "outputs": [],
   "source": [
    "#Localizando\n",
    "train_neutro=train.loc[train['Target']==0, :]\n",
    "train_pos=train.loc[train['Target']==1, :]\n",
    "train_neg=train.loc[train['Target']==2, :]"
   ]
  },
  {
   "cell_type": "code",
   "execution_count": 498,
   "metadata": {},
   "outputs": [],
   "source": [
    "#Criando as tabelas absoluta e relativa das palavras do titulo (neutro)\n",
    "todas_palavrasneu_tit = ''\n",
    "for letran in train_neutro['Titulo']:\n",
    "    todas_palavrasneu_tit += ' ' + letran\n",
    "lista_todas_palavrasneu_tit=RemoveStopWords(todas_palavrasneu_tit.split())\n",
    "serie_neutro_tit = pd.Series(lista_todas_palavrasneu_tit)\n",
    "tabela_neutro_titulo = serie_neutro_tit.value_counts()\n",
    "tabela_neutro_rel_titulo=serie_neutro_tit.value_counts(True)\n"
   ]
  },
  {
   "cell_type": "code",
   "execution_count": 499,
   "metadata": {},
   "outputs": [],
   "source": [
    "#Criando as tabelas absoluta e relativa das palavras do primeiro parágrafo (neutro)\n",
    "todas_palavrasneu_pp = ''\n",
    "for letranp in train_neutro['PrimeiroParag']:\n",
    "    todas_palavrasneu_pp += ' ' + letranp\n",
    "lista_todas_palavrasneu_pp=RemoveStopWords(todas_palavrasneu_pp.split())\n",
    "serie_neutro_pp = pd.Series(lista_todas_palavrasneu_pp)\n",
    "tabela_neutro_primeiro_parag = serie_neutro_pp.value_counts()\n",
    "tabela_neutro_rel_primeiro_parag=serie_neutro_pp.value_counts(True)"
   ]
  },
  {
   "cell_type": "code",
   "execution_count": 500,
   "metadata": {},
   "outputs": [],
   "source": [
    "#Criando as tabelas absoluta e relativa das palavras do titulo (positivo)\n",
    "todas_palavrasp_tit = ''\n",
    "for letrap in train_pos['Titulo']:\n",
    "    todas_palavrasp_tit += ' ' + letrap\n",
    "lista_todas_palavrasp_tit=RemoveStopWords(todas_palavrasp_tit.split())\n",
    "serie_pos_tit = pd.Series(lista_todas_palavrasp_tit)\n",
    "tabela_pos_titulo = serie_pos_tit.value_counts()\n",
    "tabela_pos_rel_titulo= serie_pos_tit.value_counts(True)"
   ]
  },
  {
   "cell_type": "code",
   "execution_count": 501,
   "metadata": {},
   "outputs": [],
   "source": [
    "#Criando a tabela absoluta e relativa das palavras do primeiro parágrafo (positivo)\n",
    "todas_palavrasp_pp = ''\n",
    "for letrapp in train_pos['PrimeiroParag']:\n",
    "    todas_palavrasp_pp += ' ' + letrapp\n",
    "lista_todas_palavrasp_pp=RemoveStopWords(todas_palavrasp_pp.split())\n",
    "serie_pos_pp = pd.Series(lista_todas_palavrasp_pp)\n",
    "tabela_pos_primeiro_parag = serie_pos_pp.value_counts()\n",
    "tabela_pos_rel_primeiro_parag=serie_pos_pp.value_counts(True)"
   ]
  },
  {
   "cell_type": "code",
   "execution_count": 502,
   "metadata": {},
   "outputs": [],
   "source": [
    "#Criando a tabela absoluta e relativa das palavras do titulo (negativo)\n",
    "todas_palavrasneg_tit = ''\n",
    "for letran2 in train_neg['Titulo']:\n",
    "    todas_palavrasneg_tit += ' ' + letran2\n",
    "lista_todas_palavrasneg_tit=RemoveStopWords(todas_palavrasneg_tit.split())\n",
    "serie_neg_tit = pd.Series(lista_todas_palavrasneg_tit)\n",
    "tabela_neg_titulo = serie_neg_tit.value_counts()\n",
    "tabela_neg_rel_titulo= serie_neg_tit.value_counts(True)"
   ]
  },
  {
   "cell_type": "code",
   "execution_count": 503,
   "metadata": {},
   "outputs": [],
   "source": [
    "#Criando a tabela absoluta e relativa das palavras do primeiro paragrafo (negativo)\n",
    "todas_palavrasneg_pp = ''\n",
    "for letran2p in train_neg['PrimeiroParag']:\n",
    "    todas_palavrasneg_pp += ' ' + letran2p\n",
    "lista_todas_palavrasneg_pp=RemoveStopWords(todas_palavrasneg_pp.split())\n",
    "serie_neg_pp = pd.Series(lista_todas_palavrasneg_pp)\n",
    "tabela_neg_primeiro_parag = serie_neg_pp.value_counts()\n",
    "tabela_neg_rel_primeiro_parag=serie_neg_pp.value_counts(True)"
   ]
  },
  {
   "cell_type": "markdown",
   "metadata": {},
   "source": [
    "###### Checando a frequência relativa dos targets"
   ]
  },
  {
   "cell_type": "code",
   "execution_count": 504,
   "metadata": {},
   "outputs": [
    {
     "data": {
      "text/plain": [
       "1    0.383333\n",
       "0    0.330000\n",
       "2    0.286667\n",
       "Name: Target, dtype: float64"
      ]
     },
     "execution_count": 504,
     "metadata": {},
     "output_type": "execute_result"
    }
   ],
   "source": [
    "train['Target'].value_counts(True)"
   ]
  },
  {
   "cell_type": "markdown",
   "metadata": {},
   "source": [
    "###### Criando uma lista com todas palavras do título"
   ]
  },
  {
   "cell_type": "code",
   "execution_count": 505,
   "metadata": {},
   "outputs": [],
   "source": [
    "list_palavras=lista_todas_palavrasneg_tit+lista_todas_palavrasp_tit+lista_todas_palavrasneu_tit"
   ]
  },
  {
   "cell_type": "markdown",
   "metadata": {},
   "source": [
    "##### Criando uma série com todas palavras do título"
   ]
  },
  {
   "cell_type": "code",
   "execution_count": 506,
   "metadata": {},
   "outputs": [],
   "source": [
    "#Série com todas palavras e sua tabela relativa\n",
    "serie_portugues = pd.Series(list_palavras)\n",
    "tabela_rel_portugues = serie_portugues.value_counts(True)"
   ]
  },
  {
   "cell_type": "markdown",
   "metadata": {},
   "source": [
    "##### Calculando as probabilidades a priori"
   ]
  },
  {
   "cell_type": "code",
   "execution_count": 507,
   "metadata": {},
   "outputs": [
    {
     "data": {
      "text/plain": [
       "0.39133600291226794"
      ]
     },
     "execution_count": 507,
     "metadata": {},
     "output_type": "execute_result"
    }
   ],
   "source": [
    "#Probabilidade do titulo ser positivo\n",
    "prob_p_tit = len(serie_pos_tit)/len(serie_portugues)\n",
    "prob_p_tit"
   ]
  },
  {
   "cell_type": "code",
   "execution_count": 508,
   "metadata": {},
   "outputs": [
    {
     "data": {
      "text/plain": [
       "0.3269020749908992"
      ]
     },
     "execution_count": 508,
     "metadata": {},
     "output_type": "execute_result"
    }
   ],
   "source": [
    "#Probabilidade do título ser neutro\n",
    "prob_neu_tit = len(serie_neutro_tit)/len(serie_portugues)\n",
    "prob_neu_tit"
   ]
  },
  {
   "cell_type": "code",
   "execution_count": 509,
   "metadata": {},
   "outputs": [
    {
     "data": {
      "text/plain": [
       "0.28176192209683293"
      ]
     },
     "execution_count": 509,
     "metadata": {},
     "output_type": "execute_result"
    }
   ],
   "source": [
    "#Probabilidade do título ser negativo\n",
    "prob_neg_tit = len(serie_neg_tit)/len(serie_portugues)\n",
    "prob_neg_tit"
   ]
  },
  {
   "cell_type": "code",
   "execution_count": 510,
   "metadata": {},
   "outputs": [
    {
     "data": {
      "text/plain": [
       "1.0"
      ]
     },
     "execution_count": 510,
     "metadata": {},
     "output_type": "execute_result"
    }
   ],
   "source": [
    "#Verificando\n",
    "p=prob_p_tit+prob_neu_tit+prob_neg_tit\n",
    "p"
   ]
  },
  {
   "cell_type": "markdown",
   "metadata": {},
   "source": [
    "___\n",
    "## Verificando a performance do Classificador\n",
    "\n",
    "Testando o classificador com a base de teste"
   ]
  },
  {
   "cell_type": "markdown",
   "metadata": {},
   "source": [
    "### Função LaPLace\n",
    "O objetivo da função LaPLace é garantir que nenhum probabilidade seja zerada"
   ]
  },
  {
   "cell_type": "code",
   "execution_count": 511,
   "metadata": {},
   "outputs": [],
   "source": [
    "def laplace(palavra, tabela_cat_titulo, tabela_rel_portugues):\n",
    "    if palavra not in tabela_cat_titulo:\n",
    "        freq_palavra_cat=0\n",
    "    else:\n",
    "        freq_palavra_cat=tabela_cat_titulo[palavra]\n",
    "    P_palavra_dado_cat=(freq_palavra_cat+1)/(sum(tabela_cat_titulo)+len(tabela_rel_portugues))\n",
    "    return P_palavra_dado_cat\n"
   ]
  },
  {
   "cell_type": "code",
   "execution_count": 512,
   "metadata": {},
   "outputs": [
    {
     "name": "stdout",
     "output_type": "stream",
     "text": [
      "0.0004987531172069825\n",
      "0.0005868544600938967\n",
      "0.04488778054862843\n"
     ]
    }
   ],
   "source": [
    "#Testando a função laplace\n",
    "x=laplace('palavraqualquer', tabela_pos_titulo, tabela_rel_portugues)\n",
    "print(x)\n",
    "x1=laplace('palavraqualquer', tabela_neg_titulo, tabela_rel_portugues)\n",
    "print(x1)\n",
    "x2=laplace('ibovespa', tabela_pos_titulo, tabela_rel_portugues)\n",
    "print(x2)"
   ]
  },
  {
   "cell_type": "markdown",
   "metadata": {},
   "source": [
    "Visto que nenhuma probabilidade é zerada, é possível montar o classificador:"
   ]
  },
  {
   "cell_type": "code",
   "execution_count": 513,
   "metadata": {},
   "outputs": [],
   "source": [
    "lista_classifica_test=[]\n",
    "for noticia in test.Titulo:\n",
    "    palavras=noticia.split()\n",
    "    \n",
    "    prob_neg_dado_noticia=1\n",
    "    prob_pos_dado_noticia=1\n",
    "    prob_neu_dado_noticia=1\n",
    "    for palavra in palavras:\n",
    "        prob_neg_dado_noticia=prob_neg_dado_noticia*laplace(palavra, tabela_neg_titulo, tabela_rel_portugues)\n",
    "        \n",
    "    for palavra in palavras:\n",
    "        prob_pos_dado_noticia=prob_pos_dado_noticia*laplace(palavra, tabela_pos_titulo, tabela_rel_portugues)\n",
    "    \n",
    "    for palavra in palavras:\n",
    "        prob_neu_dado_noticia=prob_neu_dado_noticia*laplace(palavra, tabela_neutro_titulo, tabela_rel_portugues)\n",
    "        \n",
    "        \n",
    "    prob_neg_dado_noticia*=prob_neg_tit\n",
    "    prob_neu_dado_noticia*=prob_neu_tit\n",
    "    prob_pos_dado_noticia*=prob_p_tit\n",
    "    \n",
    "    if prob_neg_dado_noticia>prob_pos_dado_noticia and prob_neg_dado_noticia>prob_neu_dado_noticia:\n",
    "        lista_classifica_test.append(2)\n",
    "    elif prob_neu_dado_noticia>prob_pos_dado_noticia and prob_neu_dado_noticia>prob_neg_dado_noticia:\n",
    "        lista_classifica_test.append(0)\n",
    "    elif prob_pos_dado_noticia>prob_neg_dado_noticia and prob_pos_dado_noticia>prob_neu_dado_noticia:\n",
    "        lista_classifica_test.append(1)\n"
   ]
  },
  {
   "cell_type": "code",
   "execution_count": 514,
   "metadata": {},
   "outputs": [
    {
     "data": {
      "text/plain": [
       "2    0.355\n",
       "0    0.350\n",
       "1    0.295\n",
       "dtype: float64"
      ]
     },
     "execution_count": 514,
     "metadata": {},
     "output_type": "execute_result"
    }
   ],
   "source": [
    "serie_classifica_titulo=pd.Series(lista_classifica_test)\n",
    "tabela_classifica_titulo_absoluta=serie_classifica_titulo.value_counts()\n",
    "tabela_classifica_titulo_relativa=serie_classifica_titulo.value_counts(True)\n",
    "tabela_classifica_titulo_relativa"
   ]
  },
  {
   "cell_type": "markdown",
   "metadata": {},
   "source": [
    "#### Agora, podemos checar o desempenho do classificador na base de teste:"
   ]
  },
  {
   "cell_type": "code",
   "execution_count": 515,
   "metadata": {},
   "outputs": [
    {
     "name": "stdout",
     "output_type": "stream",
     "text": [
      "Porcentagem de acertos:67.0%\n",
      "Classificador          0          1          2\n",
      "Target                                        \n",
      "0              71.830986  15.492958  12.676056\n",
      "1              16.438356  56.164384  27.397260\n",
      "2              12.500000  12.500000  75.000000\n",
      "Porcentagem de verdadeiros neutros: 71.83098591549296\n",
      "Porcentagem de verdadeiros positivos: 56.16438356164384\n",
      "Porcentagem de verdadeiros negativos: 75.0\n"
     ]
    }
   ],
   "source": [
    "test['Classificador']=serie_classifica_titulo\n",
    "tabela = pd.crosstab(test['Target'], test['Classificador'], normalize='index')\n",
    "tabela_of=tabela*100\n",
    "\n",
    "\n",
    "total_acertos=0\n",
    "for i in range(len(test)):\n",
    "    if test['Target'][i]==test['Classificador'][i]:\n",
    "        total_acertos=total_acertos+1\n",
    "print('Porcentagem de acertos:{}%'.format(total_acertos*100/200))\n",
    "\n",
    "print(tabela_of)\n",
    "print('Porcentagem de verdadeiros neutros: {}'.format(tabela_of[0][0]))\n",
    "print('Porcentagem de verdadeiros positivos: {}'.format(tabela_of[1][1]))\n",
    "print('Porcentagem de verdadeiros negativos: {}'.format(tabela_of[2][2]))"
   ]
  },
  {
   "cell_type": "markdown",
   "metadata": {},
   "source": [
    "### Concluindo"
   ]
  },
  {
   "cell_type": "markdown",
   "metadata": {},
   "source": [
    "- Quando testado na parte de teste do dataframe, após utilizar as informações da parte do treinamento, o classificador apresenta um resultado satisfatório, visto que as categórias 'neutro' e 'negativo' apresentaram mais de 70% de acerto e a categoria 'positivo' apresentou mais de 55% de coerência;\n",
    "- Mesmo apresentando um bom resultado, presumir que o classificador pode gerar mais resultados coerentes com diferentes notícias pode ser insensato visto que o classificador assume que as palavras se comportam de forma independente. Além disso, se fosse escolhida outra base de dados, com diversas outras notícias, utilizando esta base como treinamento, os resultados, provavelmente, seriam mais insatisfatórios ainda;\n",
    "- Para tentativa de melhoria do algoritmo, seria possível considerar aquilo que está no primeiro parágrafo, contudo, pode ser que isso acabe por piorar a performance do classificador;\n"
   ]
  },
  {
   "cell_type": "markdown",
   "metadata": {},
   "source": [
    "___\n",
    "### Qualidade do Classificador a partir de novas separações das notícias entre Treinamento e Teste\n",
    "\n"
   ]
  },
  {
   "cell_type": "markdown",
   "metadata": {},
   "source": [
    "#### Juntando o dataframe"
   ]
  },
  {
   "cell_type": "code",
   "execution_count": 516,
   "metadata": {},
   "outputs": [
    {
     "data": {
      "text/html": [
       "<div>\n",
       "<style scoped>\n",
       "    .dataframe tbody tr th:only-of-type {\n",
       "        vertical-align: middle;\n",
       "    }\n",
       "\n",
       "    .dataframe tbody tr th {\n",
       "        vertical-align: top;\n",
       "    }\n",
       "\n",
       "    .dataframe thead th {\n",
       "        text-align: right;\n",
       "    }\n",
       "</style>\n",
       "<table border=\"1\" class=\"dataframe\">\n",
       "  <thead>\n",
       "    <tr style=\"text-align: right;\">\n",
       "      <th></th>\n",
       "      <th>Categoria</th>\n",
       "      <th>Titulo</th>\n",
       "      <th>PrimeiroParag</th>\n",
       "      <th>Data</th>\n",
       "      <th>Pagina</th>\n",
       "      <th>Target</th>\n",
       "    </tr>\n",
       "  </thead>\n",
       "  <tbody>\n",
       "    <tr>\n",
       "      <th>0</th>\n",
       "      <td>Comprar ou vender?</td>\n",
       "      <td>sulamérica sula11 aquisição pela rede d’or rdo...</td>\n",
       "      <td>a rede d’or rdor3 anunciou ontem após o fecham...</td>\n",
       "      <td>24/02/2022 - 13:03</td>\n",
       "      <td>14</td>\n",
       "      <td>1</td>\n",
       "    </tr>\n",
       "    <tr>\n",
       "      <th>1</th>\n",
       "      <td>Jornais</td>\n",
       "      <td>confira as principais notícias dos jornais des...</td>\n",
       "      <td>veja as principais manchetes desta quartafeira 23</td>\n",
       "      <td>23/02/2022 - 7:01</td>\n",
       "      <td>17</td>\n",
       "      <td>0</td>\n",
       "    </tr>\n",
       "    <tr>\n",
       "      <th>2</th>\n",
       "      <td>Tempo Real</td>\n",
       "      <td>tempo real shell deixa parceria com gigante es...</td>\n",
       "      <td>boa tarde</td>\n",
       "      <td>28/02/2022 - 8:50</td>\n",
       "      <td>11</td>\n",
       "      <td>2</td>\n",
       "    </tr>\n",
       "    <tr>\n",
       "      <th>3</th>\n",
       "      <td>Economia</td>\n",
       "      <td>incerteza sobre inflação nos eua é maior do qu...</td>\n",
       "      <td>a incerteza sobre inflação e a política monetá...</td>\n",
       "      <td>10/02/2022 - 8:42</td>\n",
       "      <td>34</td>\n",
       "      <td>2</td>\n",
       "    </tr>\n",
       "    <tr>\n",
       "      <th>4</th>\n",
       "      <td>Mercados</td>\n",
       "      <td>ibovespa ibov tem leve queda com tensões geopo...</td>\n",
       "      <td>o principal índice da bolsa brasileira caía na...</td>\n",
       "      <td>18/02/2022 - 16:17</td>\n",
       "      <td>22</td>\n",
       "      <td>2</td>\n",
       "    </tr>\n",
       "    <tr>\n",
       "      <th>...</th>\n",
       "      <td>...</td>\n",
       "      <td>...</td>\n",
       "      <td>...</td>\n",
       "      <td>...</td>\n",
       "      <td>...</td>\n",
       "      <td>...</td>\n",
       "    </tr>\n",
       "    <tr>\n",
       "      <th>495</th>\n",
       "      <td>Carteira Recomendada</td>\n",
       "      <td>btg inclui itaú itub4 e ambipar ambp3 na carte...</td>\n",
       "      <td>o btg pactual bpac11 fez duas alterações em su...</td>\n",
       "      <td>30/01/2022 - 13:49</td>\n",
       "      <td>49</td>\n",
       "      <td>0</td>\n",
       "    </tr>\n",
       "    <tr>\n",
       "      <th>496</th>\n",
       "      <td>Gestoras de Recursos</td>\n",
       "      <td>lula moderado ajudou a turbinar bolsa em janei...</td>\n",
       "      <td>alguns dos principais gestores de multimercado...</td>\n",
       "      <td>15/02/2022 - 23:24</td>\n",
       "      <td>26</td>\n",
       "      <td>0</td>\n",
       "    </tr>\n",
       "    <tr>\n",
       "      <th>497</th>\n",
       "      <td>Investimentos</td>\n",
       "      <td>investidores ‘pragmáticos’ alimentam bolsa do ...</td>\n",
       "      <td>o expresidente do banco central do brasil gust...</td>\n",
       "      <td>17/02/2022 - 12:15</td>\n",
       "      <td>23</td>\n",
       "      <td>1</td>\n",
       "    </tr>\n",
       "    <tr>\n",
       "      <th>498</th>\n",
       "      <td>Mercados</td>\n",
       "      <td>ibovespa alterna perdas e ganhos na sessão mas...</td>\n",
       "      <td>o ibovespa operava sem direção clara nesta seg...</td>\n",
       "      <td>31/01/2022 - 13:06</td>\n",
       "      <td>48</td>\n",
       "      <td>1</td>\n",
       "    </tr>\n",
       "    <tr>\n",
       "      <th>499</th>\n",
       "      <td>Mercados</td>\n",
       "      <td>ibovespa sobe na abertura com balanços e tensõ...</td>\n",
       "      <td>o ibovespa abriu esta quartafeira 23 em alta c...</td>\n",
       "      <td>23/02/2022 - 10:10</td>\n",
       "      <td>17</td>\n",
       "      <td>1</td>\n",
       "    </tr>\n",
       "  </tbody>\n",
       "</table>\n",
       "<p>500 rows × 6 columns</p>\n",
       "</div>"
      ],
      "text/plain": [
       "                 Categoria                                             Titulo  \\\n",
       "0      Comprar ou vender?   sulamérica sula11 aquisição pela rede d’or rdo...   \n",
       "1                 Jornais   confira as principais notícias dos jornais des...   \n",
       "2              Tempo Real   tempo real shell deixa parceria com gigante es...   \n",
       "3                Economia   incerteza sobre inflação nos eua é maior do qu...   \n",
       "4                Mercados   ibovespa ibov tem leve queda com tensões geopo...   \n",
       "..                     ...                                                ...   \n",
       "495  Carteira Recomendada   btg inclui itaú itub4 e ambipar ambp3 na carte...   \n",
       "496  Gestoras de Recursos   lula moderado ajudou a turbinar bolsa em janei...   \n",
       "497         Investimentos   investidores ‘pragmáticos’ alimentam bolsa do ...   \n",
       "498              Mercados   ibovespa alterna perdas e ganhos na sessão mas...   \n",
       "499              Mercados   ibovespa sobe na abertura com balanços e tensõ...   \n",
       "\n",
       "                                         PrimeiroParag                Data  \\\n",
       "0    a rede d’or rdor3 anunciou ontem após o fecham...  24/02/2022 - 13:03   \n",
       "1    veja as principais manchetes desta quartafeira 23   23/02/2022 - 7:01   \n",
       "2                                            boa tarde   28/02/2022 - 8:50   \n",
       "3    a incerteza sobre inflação e a política monetá...   10/02/2022 - 8:42   \n",
       "4    o principal índice da bolsa brasileira caía na...  18/02/2022 - 16:17   \n",
       "..                                                 ...                 ...   \n",
       "495  o btg pactual bpac11 fez duas alterações em su...  30/01/2022 - 13:49   \n",
       "496  alguns dos principais gestores de multimercado...  15/02/2022 - 23:24   \n",
       "497  o expresidente do banco central do brasil gust...  17/02/2022 - 12:15   \n",
       "498  o ibovespa operava sem direção clara nesta seg...  31/01/2022 - 13:06   \n",
       "499  o ibovespa abriu esta quartafeira 23 em alta c...  23/02/2022 - 10:10   \n",
       "\n",
       "     Pagina  Target  \n",
       "0        14       1  \n",
       "1        17       0  \n",
       "2        11       2  \n",
       "3        34       2  \n",
       "4        22       2  \n",
       "..      ...     ...  \n",
       "495      49       0  \n",
       "496      26       0  \n",
       "497      23       1  \n",
       "498      48       1  \n",
       "499      17       1  \n",
       "\n",
       "[500 rows x 6 columns]"
      ]
     },
     "execution_count": 516,
     "metadata": {},
     "output_type": "execute_result"
    }
   ],
   "source": [
    "df_total = pd.merge(train,test.drop(columns=['Classificador']), how='outer') \n",
    "df_total"
   ]
  },
  {
   "cell_type": "markdown",
   "metadata": {},
   "source": [
    "#### Criando uma função para verificar a qualidade do classificador"
   ]
  },
  {
   "cell_type": "code",
   "execution_count": 517,
   "metadata": {},
   "outputs": [
    {
     "name": "stdout",
     "output_type": "stream",
     "text": [
      "[11.5, 88.5]\n"
     ]
    }
   ],
   "source": [
    "def classifica(dataframe):\n",
    "    proporciona=int(len(dataframe)*3/5)\n",
    "    learn=dataframe.sample(n=proporciona)\n",
    "    testa=pd.concat([dataframe, learn]).drop_duplicates(keep=False)\n",
    "\n",
    "    neutro=learn.loc[learn['Target']==0, :]\n",
    "    positivo=learn.loc[learn['Target']==1, :]\n",
    "    negativo=learn.loc[learn['Target']==2, :]\n",
    "    \n",
    "    neutro2=testa.loc[testa['Target']==0, :]\n",
    "    positivo2=testa.loc[testa['Target']==1, :]\n",
    "    negativo2=testa.loc[testa['Target']==2, :]\n",
    "    \n",
    "    \n",
    "    neu_tit=''\n",
    "    for n in neutro['Titulo']:\n",
    "        neu_tit += ' ' + n\n",
    "    lista_neu_tit = RemoveStopWords(neu_tit.split())\n",
    "    serie_neu2_tit = pd.Series(lista_neu_tit)\n",
    "    tabela_neu_tit = serie_neu2_tit.value_counts()\n",
    "    tabela_neu_rel_tit=serie_neu2_tit.value_counts(True)\n",
    "\n",
    "    pos_tit=''\n",
    "    for p in positivo['Titulo']:\n",
    "        pos_tit += ' ' + p\n",
    "    lista_pos_tit = RemoveStopWords(pos_tit.split())\n",
    "    serie_pos2_tit = pd.Series(lista_pos_tit)\n",
    "    tabela_pos_tit = serie_pos2_tit.value_counts()\n",
    "    tabela_pos_rel_tit=serie_pos2_tit.value_counts(True)\n",
    "\n",
    "    neg_tit=''\n",
    "    for g in negativo['Titulo']:\n",
    "        neg_tit += ' ' + g\n",
    "    lista_neg_tit = RemoveStopWords(neg_tit.split())\n",
    "    serie_neg2_tit = pd.Series(lista_neg_tit)\n",
    "    tabela_neg_tit = serie_neg2_tit.value_counts()\n",
    "    tabela_neg_rel_tit=serie_neg2_tit.value_counts(True)\n",
    "    \n",
    "    total=lista_neu_tit+lista_pos_tit+lista_neg_tit\n",
    "    serie_total = pd.Series(total)\n",
    "    tabela_total = serie_total.value_counts(True)\n",
    "    \n",
    "    prob_pos2_tit = len(serie_pos2_tit)/len(serie_total)\n",
    "    prob_neu2_tit = len(serie_neu2_tit)/len(serie_total)\n",
    "    prob_neg2_tit = len(serie_neg2_tit)/len(serie_total)\n",
    "    \n",
    "    lista_classifica=[]\n",
    "    for noticia in testa.Titulo:\n",
    "        palavras=noticia.split()\n",
    "\n",
    "        prob_neg_dado_noticia=1\n",
    "        prob_pos_dado_noticia=1\n",
    "        prob_neu_dado_noticia=1\n",
    "        for palavra in palavras:\n",
    "            prob_neg_dado_noticia=prob_neg_dado_noticia*laplace(palavra, tabela_neg_tit, tabela_total)\n",
    "\n",
    "        for palavra in palavras:\n",
    "            prob_pos_dado_noticia=prob_pos_dado_noticia*laplace(palavra, tabela_pos_tit, tabela_total)\n",
    "\n",
    "        for palavra in palavras:\n",
    "            prob_neu_dado_noticia=prob_neu_dado_noticia*laplace(palavra, tabela_neu_tit, tabela_total)\n",
    "\n",
    "    \n",
    "        prob_neg_dado_noticia*=prob_neg2_tit\n",
    "        prob_neu_dado_noticia*=prob_neu2_tit\n",
    "        prob_pos_dado_noticia*=prob_pos2_tit\n",
    "\n",
    "        if prob_neg_dado_noticia>prob_pos_dado_noticia and prob_neg_dado_noticia>prob_neu_dado_noticia:\n",
    "            lista_classifica.append(2)\n",
    "        elif prob_neu_dado_noticia>prob_pos_dado_noticia and prob_neu_dado_noticia>prob_neg_dado_noticia:\n",
    "            lista_classifica.append(0)\n",
    "        elif prob_pos_dado_noticia>prob_neg_dado_noticia and prob_pos_dado_noticia>prob_neu_dado_noticia:\n",
    "            lista_classifica.append(1)\n",
    "    \n",
    "    serie_classifica=pd.Series(lista_classifica)\n",
    "    testa['Classificador']=serie_classifica\n",
    "    \n",
    "    total_acertos2=0\n",
    "    total_erros2=0\n",
    "\n",
    "    for i in range(len(testa)):\n",
    "        if testa.iloc[i, 5]==testa.iloc[i, 6]:\n",
    "            total_acertos2=total_acertos2+1\n",
    "        else:\n",
    "            total_erros2=total_erros2+1\n",
    "    lista_acertos_e_erros=[(total_acertos2/200)*100, (total_erros2/200)*100]\n",
    "        \n",
    "\n",
    "\n",
    "    return lista_acertos_e_erros\n",
    "\n",
    "print(classifica(df_total))\n"
   ]
  },
  {
   "cell_type": "markdown",
   "metadata": {},
   "source": [
    "#### Criando uma função para rodar o classificador 200 vezes"
   ]
  },
  {
   "cell_type": "code",
   "execution_count": 518,
   "metadata": {},
   "outputs": [
    {
     "name": "stdout",
     "output_type": "stream",
     "text": [
      "()\n"
     ]
    },
    {
     "data": {
      "image/png": "[encoded data removed]",
      "text/plain": [
       "<Figure size 1080x720 with 1 Axes>"
      ]
     },
     "metadata": {
      "needs_background": "light"
     },
     "output_type": "display_data"
    }
   ],
   "source": [
    "def roda_x(df, num):\n",
    "    lista_acertos=[]\n",
    "    lista_erros=[]\n",
    "    total=''\n",
    "    for i in range(0, num):\n",
    "        rodar=classifica(df)\n",
    "        lista_acertos.append(rodar[0])\n",
    "        lista_erros.append(rodar[1])\n",
    "        total=total+('O total de acertos é de {}% e de erros {}'.format(lista_acertos[i], lista_erros[i]))+ '\\n'\n",
    "    \n",
    "    minimo = round(min(lista_acertos))\n",
    "    maximo = round(max(lista_acertos))\n",
    "    \n",
    "    total_acertos = pd.Series(lista_acertos)\n",
    "    \n",
    "    faixa = arange(minimo,maximo,0.45)\n",
    "\n",
    "    fig = plt.figure(figsize=(15, 10))\n",
    "    plot = plt.hist(total_acertos, bins=faixa, density=True, \n",
    "                    color='green', edgecolor='white', alpha=1)\n",
    "    plt.xlabel('Quantidade de Acertos (%)')\n",
    "    plt.ylabel('Density')\n",
    "    plt.title('Qualidade do Classificador - {} amostras'.format(num))\n",
    "    plt.xlim(minimo-1, maximo+1)\n",
    "\n",
    "\n",
    "    return ()\n",
    "print(roda_x(df_total,200))\n"
   ]
  },
  {
   "cell_type": "markdown",
   "metadata": {},
   "source": [
    "### Comentando a performance do classificador"
   ]
  },
  {
   "cell_type": "markdown",
   "metadata": {},
   "source": [
    "- Por mais que a tentativa original na base de teste tenha apresentado bons resultados, quando aplicado em duzentas noticias aleatórias, depois de ter aprendido com outras trezentas notícias, os resultados tiveram um decaimento considerável, tendo resultados positivos de menos de 20%;\n",
    "- Isso comprova o que foi concluido anteriormente. No caso, dependerá muito das palavras independentes e não de toda coesão textual;\n",
    "\n"
   ]
  },
  {
   "cell_type": "markdown",
   "metadata": {},
   "source": [
    "___\n",
    "## Aperfeiçoamento:\n",
    "\n",
    "Trabalhos que conseguirem pelo menos conceito B vão evoluir em conceito dependendo da quantidade de itens avançados:\n",
    "\n",
    "* IMPLEMENTOU outras limpezas e transformações que não afetem a qualidade da informação contida nas notícias. Ex: stemming, lemmatization, stopwords\n",
    "* CONSIDEROU mais de duas caterogias na variável Target e INCREMENTOU a quantidade de notícias, mantendo pelo menos 250 notícias por caterogia (OBRIGATÓRIO PARA TRIOS, sem contar como item avançado)\n",
    "* Para Target com duas categorias: CRIOU pelo menos quatro categorias intermediárias de relevância baseadas na probabilidade: ex.: muito relevante, relevante, neutro, irrelevante, muito irrelevante\n",
    "* EXPLICOU porquê não pode usar o próprio classificador para gerar mais amostras de treinamento\n",
    "* PROPÔS diferentes cenários para Naïve Bayes fora do contexto do projeto (pelo menos dois cenários, exceto aqueles já apresentados em sala pelos professores: por exemplo, filtro de spam)\n",
    "* SUGERIU e EXPLICOU melhorias reais com indicações concretas de como implementar (indicar como fazer e indicar material de pesquisa)\n",
    "* FEZ o item Qualidade do Classificador a partir de novas separações das Notícias entre Treinamento e Teste descrito no enunciado do projeto (OBRIGATÓRIO para conceitos A ou A+)"
   ]
  },
  {
   "cell_type": "markdown",
   "metadata": {},
   "source": [
    "___\n",
    "## Referências"
   ]
  },
  {
   "cell_type": "markdown",
   "metadata": {},
   "source": [
    "[Naive Bayes and Text Classification](https://arxiv.org/pdf/1410.5329.pdf)  **Mais completo**\n",
    "\n",
    "[A practical explanation of a Naive Bayes Classifier](https://monkeylearn.com/blog/practical-explanation-naive-bayes-classifier/) **Mais simples**"
   ]
  },
  {
   "cell_type": "code",
   "execution_count": null,
   "metadata": {},
   "outputs": [],
   "source": []
  }
 ],
 "metadata": {
  "kernelspec": {
   "display_name": "Python 3 (ipykernel)",
   "language": "python",
   "name": "python3"
  },
  "language_info": {
   "codemirror_mode": {
    "name": "ipython",
    "version": 3
   },
   "file_extension": ".py",
   "mimetype": "text/x-python",
   "name": "python",
   "nbconvert_exporter": "python",
   "pygments_lexer": "ipython3",
   "version": "3.9.7"
  }
 },
 "nbformat": 4,
 "nbformat_minor": 4
}
